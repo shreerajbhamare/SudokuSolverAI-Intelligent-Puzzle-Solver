{
  "nbformat": 4,
  "nbformat_minor": 0,
  "metadata": {
    "colab": {
      "name": "sudoku_solution.ipynb",
      "provenance": [],
      "collapsed_sections": []
    },
    "kernelspec": {
      "name": "python3",
      "display_name": "Python 3"
    }
  },
  "cells": [
    {
      "cell_type": "markdown",
      "metadata": {
        "id": "lnjiMu1VhEXE",
        "colab_type": "text"
      },
      "source": [
        "**Solving Sudoku Puzzle Using Neural Network**\n",
        "\n",
        "The **classic sudoku** is a number placing puzzle game with a grid of **9 rows and 9 columns**, partly filled with **numbers 1..9** . We have to fill up the remaining positions such that each **row, columns and 3x3 sub grids** contains numbers 1..9, **without any repeatation**.\n",
        "\n",
        "Here our **input** is an **image of sudoku** puzzle and we need to produce a corresponding **output image** by filling the remaining positions of the input with **valid** digits. The pipeline for the **solution** consists of the following steps.\n",
        "\n",
        "1. Preprocess the input image and remove the background\n",
        "2. Crop subregions containing digits from the grid\n",
        "3. Predict numbers from image crops using neural network\n",
        "4. Predict solution using neural network in an iterative manner\n",
        "5. Verify the solution and plot the resuts on the input image\n",
        "\n",
        "![picture](https://docs.google.com/drawings/d/e/2PACX-1vRMOwiXYg9cQ4OGfQxvuF2rxkJRHLOoJYJfAFnC2X_Ggxh2BACz1e4M2OV7h3iSjC8vzJp8SR9LP9sY/pub?w=921&h=606)\n",
        "\n"
      ]
    },
    {
      "cell_type": "markdown",
      "metadata": {
        "id": "jVJYhEw2ha_F",
        "colab_type": "text"
      },
      "source": [
        "Initially **download** the sample images and tf.keras models for **digit recognition** and **sudoku solver**."
      ]
    },
    {
      "cell_type": "code",
      "metadata": {
        "id": "CbMnhAJTefsf",
        "colab_type": "code",
        "colab": {}
      },
      "source": [
        "!git clone \"https://github.com/anilsathyan7/AI-Sudoku-Solver\"\n",
        "%cd AI-Sudoku-Solver\n",
        "!wget \"https://www.dropbox.com/s/qi3quethhfm1ria/sudoku_models.zip\"\n",
        "!unzip sudoku_models.zip"
      ],
      "execution_count": null,
      "outputs": []
    },
    {
      "cell_type": "markdown",
      "metadata": {
        "id": "8kjXQkWpemBw",
        "colab_type": "text"
      },
      "source": [
        "**Preprocess And Remove Background**\n",
        "\n",
        "Crop, transform and save the **smallest square** region containing the puzzle."
      ]
    },
    {
      "cell_type": "code",
      "metadata": {
        "id": "_1M7QDcgpRsC",
        "colab_type": "code",
        "colab": {}
      },
      "source": [
        "import cv2\n",
        "import numpy as np\n",
        "import math\n",
        "import os\n",
        "\n",
        "import matplotlib.pyplot as plt\n",
        "import tensorflow as tf\n",
        "from skimage.util import view_as_blocks\n",
        "from tensorflow.keras.models import load_model\n",
        "\n",
        "# Read input sudoku image \n",
        "img =  cv2.imread(\"test/img_test_1/test_onestar_1.jpg\")\n",
        "\n",
        "# Preprocess the input image\n",
        "img = cv2.resize(img,(1026,1026))\n",
        "\n",
        "imgray = cv2.cvtColor(img, cv2.COLOR_BGR2GRAY)\n",
        "imgray =  cv2.GaussianBlur(imgray,(11,11),0)#cv2.medianBlur(imgray,3)\n",
        "\n",
        "thresh = cv2.adaptiveThreshold(imgray, 255, cv2.ADAPTIVE_THRESH_GAUSSIAN_C,cv2.THRESH_BINARY_INV,5,2)\n",
        "\n",
        "# Connect broken grid lines\n",
        "kernel = np.array([0,1,0,1,1,1,0,1,0],dtype=np.uint8).reshape(3,3)\n",
        "thresh = cv2.dilate(thresh, kernel,iterations = 2)\n",
        "\n",
        "cv2.imwrite('thresh.jpg', thresh)\n",
        "\n",
        "# Find the largest contour and approximate the polygonal curve\n",
        "contours, _ = cv2.findContours(thresh, cv2.RETR_EXTERNAL, cv2.CHAIN_APPROX_SIMPLE)\n",
        "cnt1 = max(contours, key = cv2.contourArea)\n",
        "epsilon = 0.1*cv2.arcLength(cnt1,True)\n",
        "cnt = cv2.approxPolyDP(cnt1,epsilon,True).squeeze()\n",
        "\n",
        "# Sort co-ordinates in top-left raster order\n",
        "cor_list=sorted(cnt.tolist() , key=lambda c: c[1]) # sort by y values\n",
        "ord_list=sorted(cor_list[:2])+sorted(cor_list[2:]) # sort by x values\n",
        "\n",
        "# Apply perspective transformation and get the  warped image\n",
        "pts1 = np.float32(ord_list) #raster \n",
        "pts2 = np.float32([[0,0],[1026,0],[0,1026],[1026,1026]])\n",
        "M = cv2.getPerspectiveTransform(pts1,pts2)\n",
        "out_gry = cv2.warpPerspective(img,M,(1026,1026))\n",
        "out_bin = cv2.warpPerspective(thresh,M,(1026,1026))\n",
        "\n",
        "# Dilate the image to fill the cracks\n",
        "kernel = np.array([0,1,0,1,1,1,0,1,0],dtype=np.uint8).reshape(3,3)\n",
        "out_bin = cv2.dilate(out_bin, kernel,iterations = 1)\n",
        "\n",
        "# Save the binary and grayscale outputs\n",
        "cv2.imwrite('puzzle.jpg', out_gry)\n",
        "cv2.imwrite('puzzle_bin.jpg', out_bin)\n",
        "\n",
        "# Show the grayscale output image\n",
        "plt.imshow(out_gry)"
      ],
      "execution_count": null,
      "outputs": []
    },
    {
      "cell_type": "markdown",
      "metadata": {
        "id": "Enyzf1TfO0Ux",
        "colab_type": "text"
      },
      "source": [
        "**Note:** The puzzle images must have been captured from a **flat** surface and it should not contain **additional marks** or patterns."
      ]
    },
    {
      "cell_type": "markdown",
      "metadata": {
        "id": "BkHFcI1Fw8Y2",
        "colab_type": "text"
      },
      "source": [
        "**Crop ROI Blocks**\n",
        "\n",
        "Here, we use the previous **binarized and grayscale** versions of **output image**  for further processing.\n",
        "\n",
        "* Divide the images into **9 rows and 9 columns** roughly along the grid patterns, such that each **block** containig the digits have **same size**.\n",
        "* For each such block in the image we **crop and save the ROI**(81x81) containing the digits(or blank) from center, in grayscale mode. \n",
        "* Again, we crop the **largest square** containing the digits from their larger parent block and **resize** them to **32x32** size.\n",
        "* If the ROI regions are **blank spaces** representing unfilled positions, we replace them with a **template** image of digit **zero**. \n",
        "\n",
        "Finally, save these entire batch of images as a **float numpy array**, in order and **plot** the results."
      ]
    },
    {
      "cell_type": "code",
      "metadata": {
        "id": "lPgRFrCQZM1i",
        "colab_type": "code",
        "colab": {}
      },
      "source": [
        "\n",
        "# Crop square ROI from the center of original grayscale image\n",
        "def crop_center(bin, gry,cropx,cropy):\n",
        "   \n",
        "   y,x = bin.shape[0],bin.shape[1]\n",
        "   startx = x//2-(cropx//2)\n",
        "   starty = y//2-(cropy//2)    \n",
        "    \n",
        "   crop_bin = bin[starty:starty+cropy,startx:startx+cropx]\n",
        "   crop_gry = gry[starty:starty+cropy,startx:startx+cropx]\n",
        "\n",
        "   # Use binary image to find the largest contour\n",
        "   contours, _ = cv2.findContours(crop_bin, cv2.RETR_EXTERNAL, cv2.CHAIN_APPROX_SIMPLE)\n",
        "   \n",
        "   zero=cv2.imread('images/zero_template.jpg', cv2.IMREAD_GRAYSCALE)\n",
        "   \n",
        "   # Check for blanks in the image\n",
        "   if len(contours) == 0 or cv2.contourArea( max(contours, key = cv2.contourArea))<250:\n",
        "     return zero\n",
        "\n",
        "   # Get contour with maximum area\n",
        "   cnt = max(contours, key = cv2.contourArea)\n",
        "   x,y,w,h = cv2.boundingRect(cnt)\n",
        "   d=(h-w)//2\n",
        "   c=crop_gry.shape[0]\n",
        "   ROI = crop_gry[y:y+h, max(0,x-d):min(c,x+w+d)] # Save grayscale image crops\n",
        "   \n",
        "   return ROI\n",
        "\n",
        "\n",
        "# Get crop size for square blocks\n",
        "imgheight=out_bin.shape[0]\n",
        "imgwidth=out_bin.shape[1]\n",
        "H,W = imgheight//9, imgwidth//9\n",
        "\n",
        "# For each block crop roi and add them to list\n",
        "sudokus=[]\n",
        "gry=[]\n",
        "for y in range(0,imgheight,H):\n",
        "    for x in range(0, imgwidth, W):\n",
        "        y1 = y + H\n",
        "        x1 = x + W\n",
        "        tiles_bin = out_bin[y:y+H,x:x+W]\n",
        "        tiles_gry = cv2.cvtColor(out_gry[y:y+H,x:x+W], cv2.COLOR_BGR2GRAY)\n",
        "\n",
        "        digits = crop_center(tiles_bin,tiles_gry,81,81)\n",
        "        digits=cv2.resize(digits,(32,32),cv2.INTER_AREA)\n",
        "\n",
        "        sudokus.append(digits/255.0)\n",
        "  \n",
        "# Create a float numpy array with 81 images from list\n",
        "sudoku_numbers=np.float32(sudokus).reshape(81,32,32,1)\n",
        "\n",
        "# Plot the images using matplotlib\n",
        "fig=plt.figure(figsize=(8, 8))\n",
        "columns = 9\n",
        "rows = 9\n",
        "for i in range(1, columns*rows +1):\n",
        "    img = sudoku_numbers[i-1]\n",
        "    fig.add_subplot(rows, columns, i)\n",
        "    plt.imshow(img.squeeze())\n",
        "plt.show()"
      ],
      "execution_count": null,
      "outputs": []
    },
    {
      "cell_type": "markdown",
      "metadata": {
        "id": "d75pSs4ExNE_",
        "colab_type": "text"
      },
      "source": [
        "**Predict Digits From Images**\n",
        "\n",
        "* Load the **cnn model** trained on **SVHN dataset** and **predict** the output for the entire batch of **81 images**.\n",
        "* The model **classifies** images of numbers **0 to 9** (i.e 10 class) and has **output shape**: (81, 10)\n",
        "* Perform **argmax** on the last dimension of output and reshape them to **9x9** dimension."
      ]
    },
    {
      "cell_type": "code",
      "metadata": {
        "id": "IafwMDZiQsjH",
        "colab_type": "code",
        "colab": {}
      },
      "source": [
        "# Predict the numbers from images, using neural network\n",
        "model=load_model('models/digit_svhn-196-0.14.hdf5')\n",
        "out=model.predict(sudoku_numbers)\n",
        "puzzle=np.argmax(out,axis=-1).reshape((9,9))\n",
        "print(puzzle)"
      ],
      "execution_count": null,
      "outputs": []
    },
    {
      "cell_type": "markdown",
      "metadata": {
        "id": "IltUOCFtchHJ",
        "colab_type": "text"
      },
      "source": [
        "**Note:** The model was trained on **entire svhn** dataset(train, test and extra) in **grayscale** mode. It acheived training **accuracy of 96 percent**."
      ]
    },
    {
      "cell_type": "markdown",
      "metadata": {
        "id": "7ei9o-0CJJvG",
        "colab_type": "text"
      },
      "source": [
        "**Solve Sudoku Puzzle**\n",
        "\n",
        "The sudoku solver model takes as **input** an array of shape **9x9** representing the digits in the puzzle, from  the previous step.\n",
        "\n",
        "* We **subtract mean and normalize** them to range **-0.5 to 0.5**, before feeding the entire batch as input to the model for **prediction**.\n",
        "\n",
        "* In  each iteration we select an **element** in the output(9x9) with **maximum probability**(single) for the digits and fill those digits in the **corresponding positions** in the **input** array.\n",
        "\n",
        "* We **repeat** the iterations with the new **modified input**, until there are **no unfilled locations** in the input (i.e no zeros).\n",
        "\n",
        "Finally, print the **results** for each **iteration** and show the **final output** "
      ]
    },
    {
      "cell_type": "code",
      "metadata": {
        "id": "JGryb45uJd-t",
        "colab_type": "code",
        "colab": {}
      },
      "source": [
        "# Load the sudoku solver neural network\n",
        "solver=load_model('models/sudoku_conv-20-0.10.hdf5')\n",
        "solver.add(tf.keras.layers.Softmax())\n",
        "\n",
        "'''\n",
        "Sudoku Solver :-\n",
        "The function takes a sudoku matrix of 9x9 with numbers 0...9 as input(i.e 'puzzle').\n",
        "Zeros represents the blank spaces in the original puzzle.\n",
        "Each iteration produces an output array of 9x9 with numbers 1...9 (i.e 'out').\n",
        "For each such output array, 'maxp'(9x9) contains the corresponding probability values.\n",
        "For each filled(non-zero) element in input array we set corresponding probability in 'maxp' o -1.\n",
        "Now, find the maximum element in 'maxp' and set the corresponding positions of input with corresponding values from current output.\n",
        "Repeat the iterations with modified input(i.e 'puzzle'), until all elements are filled (ie. no zeros).\n",
        "'''\n",
        "def sudoku_solve(puzzle, verbose=True):\n",
        "  \n",
        "  iter=0\n",
        "\n",
        "  while 0 in puzzle :\n",
        "\n",
        "    input_norm=(puzzle/9) - 0.5\n",
        "    input_puzz=np.float32(input_norm.reshape(1,9,9,1))\n",
        "    output_puzz=solver.predict(input_puzz)\n",
        "\n",
        "    out=np.argmax(output_puzz,axis=-1).squeeze()+1\n",
        "    maxp=np.max(output_puzz,axis=-1).squeeze()\n",
        "\n",
        "    maxp[puzzle!=0]=-1.0\n",
        "\n",
        "    indices=np.where(maxp==maxp.max())\n",
        "    a,b = indices\n",
        "\n",
        "    indices=(a[0],b[0]) # Select index of any one max element\n",
        "    puzzle[indices]=out[indices]\n",
        "\n",
        "    if verbose: \n",
        "      print(\"\\n>>> Iteration :\",iter,\"\\n\")\n",
        "      X,Y = indices\n",
        "      iter = iter + 1\n",
        "      print ((X, Y), \" : \", out[indices] )\n",
        "\n",
        "  return puzzle\n",
        "\n",
        "solution=sudoku_solve(puzzle.copy())\n",
        "\n",
        "print(\"\\n======SOLUTION======\\n\")\n",
        "print(solution)"
      ],
      "execution_count": null,
      "outputs": []
    },
    {
      "cell_type": "markdown",
      "metadata": {
        "id": "BNOWZZO7eP0m",
        "colab_type": "text"
      },
      "source": [
        "**Note:** The model was trained on a dataset with **10 million** sudoku puzzles. It  achieved a training **accuracy of 96 percent**."
      ]
    },
    {
      "cell_type": "markdown",
      "metadata": {
        "id": "WNwIVEldx0ar",
        "colab_type": "text"
      },
      "source": [
        "**Verify And Plot Solution**\n",
        "\n",
        "Check the solution to see if it passes all the **test cases** for a correct solution.\n",
        "* Verify if each **row, column and block** contains numbers **0 to 9** in the final solution.(verification)\n",
        "* Also check if the **original digits** in the inital input were **modified** in the final solution.(validation)\n",
        "* Plot the new **digits** from solution in their corresponding positions on the input **grayscale image**."
      ]
    },
    {
      "cell_type": "code",
      "metadata": {
        "id": "hghx87EYVCE7",
        "colab_type": "code",
        "colab": {}
      },
      "source": [
        "# Verify the sudoku solution\n",
        "def check_sudoku(puzzle, solution):\n",
        "  \n",
        "  # Verify if fixed non-zero elements of input has changed\n",
        "  for i in range(81):\n",
        "     if puzzle.flatten()[i] != 0:\n",
        "       if puzzle.flatten()[i] != solution.flatten()[i]:\n",
        "         print(\"Wrong solution: puzzle modified \")\n",
        "         return 0\n",
        "        \n",
        "  blocks=view_as_blocks(solution, (3, 3)).reshape(9,9)\n",
        "  nos=np.arange(1,10)\n",
        "\n",
        "  # Check uniqueness of rows, columns and blocks in solution\n",
        "  for i in range(9):\n",
        "    if not np.array_equal(np.unique(solution[i]), nos):\n",
        "       print(\"Wrong solution\") # rows mismatch\n",
        "       return 0\n",
        "    elif not np.array_equal(np.unique(solution.T[i]), nos):\n",
        "       print(\"Wrong solution\") # columns mismatch\n",
        "       return 0\n",
        "    elif not np.array_equal(np.unique(blocks[i]), nos):\n",
        "       print(\"Wrong solution\") # blocks mismatch\n",
        "       return 0\n",
        "  \n",
        "  print(\"Correct solution\")\n",
        "  return 1\n",
        "\n",
        "check_sudoku(puzzle.copy(), solution.copy())\n",
        "\n",
        "# Plot the results over the original image\n",
        "def show_output(puzzle, solution, sudoku):\n",
        "\n",
        "  for i in range(9):\n",
        "    for j in range(9):\n",
        "      pos=(37+114*j, 77+114*i)\n",
        "      if puzzle[i,j] == 0:\n",
        "        cv2.putText(sudoku,str(solution[i,j]),pos, cv2.FONT_HERSHEY_SIMPLEX, 2, 0,5)\n",
        "\n",
        "  plt.imshow(sudoku)\n",
        "\n",
        "show_output(puzzle.copy(),solution.copy(),out_gry.copy())"
      ],
      "execution_count": null,
      "outputs": []
    },
    {
      "cell_type": "markdown",
      "metadata": {
        "id": "bIls03FUkdgb",
        "colab_type": "text"
      },
      "source": [
        "**Testing Sudoku Solver Model**\n",
        "\n",
        "The test dataset consists of **30 puzzles** from website: **https://1sudoku.com**  and **30** random puzzles from **newspapers**. They mostly contain **difficulties** ranging from **easy to medium**."
      ]
    },
    {
      "cell_type": "code",
      "metadata": {
        "id": "np4dF05ekgPA",
        "colab_type": "code",
        "colab": {}
      },
      "source": [
        "import numpy as np\n",
        "\n",
        "# Load the two test datasets\n",
        "x1=np.load('test/raw_test_1/test_puzzles_1.npy')\n",
        "y1=np.load('test/raw_test_1/test_solutions_1.npy')\n",
        "\n",
        "x2=np.load('test/raw_test_2/test_puzzles_2.npy')\n",
        "y2=np.load('test/raw_test_2/test_solutions_2.npy')\n",
        "\n",
        "# Combine the two test datasets\n",
        "x=np.concatenate([x1,x2], axis=0)\n",
        "y=np.concatenate([y1,y2], axis=0)\n",
        "\n",
        "# Evaluate the models using test dataset\n",
        "def evaluate(puzzle, solution):\n",
        "  total=len(puzzle)\n",
        "  correct=0\n",
        "  for i in range(len(puzzle)):\n",
        "    puzz=puzzle[i]\n",
        "    solution=sudoku_solve(puzz.reshape(9,9), verbose=False)\n",
        "    print(\"\\nPuzzle Number: \",i)\n",
        "    correct += check_sudoku(puzz, solution)\n",
        "\n",
        "  print(\"\\nTotal: {}, Correct: {}\".format(total, correct))  \n",
        "    \n",
        "\n",
        "evaluate(x.copy(),y.copy())"
      ],
      "execution_count": null,
      "outputs": []
    }
  ]
}